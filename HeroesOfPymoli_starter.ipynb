{
 "cells": [
  {
   "cell_type": "markdown",
   "metadata": {},
   "source": [
    "### Note\n",
    "* Instructions have been included for each segment. You do not have to follow them exactly, but they are included to help you think through the steps."
   ]
  },
  {
   "cell_type": "code",
   "execution_count": 1,
   "metadata": {},
   "outputs": [
    {
     "data": {
      "text/html": [
       "<div>\n",
       "<style scoped>\n",
       "    .dataframe tbody tr th:only-of-type {\n",
       "        vertical-align: middle;\n",
       "    }\n",
       "\n",
       "    .dataframe tbody tr th {\n",
       "        vertical-align: top;\n",
       "    }\n",
       "\n",
       "    .dataframe thead th {\n",
       "        text-align: right;\n",
       "    }\n",
       "</style>\n",
       "<table border=\"1\" class=\"dataframe\">\n",
       "  <thead>\n",
       "    <tr style=\"text-align: right;\">\n",
       "      <th></th>\n",
       "      <th>Purchase ID</th>\n",
       "      <th>SN</th>\n",
       "      <th>Age</th>\n",
       "      <th>Gender</th>\n",
       "      <th>Item ID</th>\n",
       "      <th>Item Name</th>\n",
       "      <th>Price</th>\n",
       "    </tr>\n",
       "  </thead>\n",
       "  <tbody>\n",
       "    <tr>\n",
       "      <th>0</th>\n",
       "      <td>0</td>\n",
       "      <td>Lisim78</td>\n",
       "      <td>20</td>\n",
       "      <td>Male</td>\n",
       "      <td>108</td>\n",
       "      <td>Extraction, Quickblade Of Trembling Hands</td>\n",
       "      <td>3.53</td>\n",
       "    </tr>\n",
       "    <tr>\n",
       "      <th>1</th>\n",
       "      <td>1</td>\n",
       "      <td>Lisovynya38</td>\n",
       "      <td>40</td>\n",
       "      <td>Male</td>\n",
       "      <td>143</td>\n",
       "      <td>Frenzied Scimitar</td>\n",
       "      <td>1.56</td>\n",
       "    </tr>\n",
       "    <tr>\n",
       "      <th>2</th>\n",
       "      <td>2</td>\n",
       "      <td>Ithergue48</td>\n",
       "      <td>24</td>\n",
       "      <td>Male</td>\n",
       "      <td>92</td>\n",
       "      <td>Final Critic</td>\n",
       "      <td>4.88</td>\n",
       "    </tr>\n",
       "    <tr>\n",
       "      <th>3</th>\n",
       "      <td>3</td>\n",
       "      <td>Chamassasya86</td>\n",
       "      <td>24</td>\n",
       "      <td>Male</td>\n",
       "      <td>100</td>\n",
       "      <td>Blindscythe</td>\n",
       "      <td>3.27</td>\n",
       "    </tr>\n",
       "    <tr>\n",
       "      <th>4</th>\n",
       "      <td>4</td>\n",
       "      <td>Iskosia90</td>\n",
       "      <td>23</td>\n",
       "      <td>Male</td>\n",
       "      <td>131</td>\n",
       "      <td>Fury</td>\n",
       "      <td>1.44</td>\n",
       "    </tr>\n",
       "    <tr>\n",
       "      <th>...</th>\n",
       "      <td>...</td>\n",
       "      <td>...</td>\n",
       "      <td>...</td>\n",
       "      <td>...</td>\n",
       "      <td>...</td>\n",
       "      <td>...</td>\n",
       "      <td>...</td>\n",
       "    </tr>\n",
       "    <tr>\n",
       "      <th>775</th>\n",
       "      <td>775</td>\n",
       "      <td>Aethedru70</td>\n",
       "      <td>21</td>\n",
       "      <td>Female</td>\n",
       "      <td>60</td>\n",
       "      <td>Wolf</td>\n",
       "      <td>3.54</td>\n",
       "    </tr>\n",
       "    <tr>\n",
       "      <th>776</th>\n",
       "      <td>776</td>\n",
       "      <td>Iral74</td>\n",
       "      <td>21</td>\n",
       "      <td>Male</td>\n",
       "      <td>164</td>\n",
       "      <td>Exiled Doomblade</td>\n",
       "      <td>1.63</td>\n",
       "    </tr>\n",
       "    <tr>\n",
       "      <th>777</th>\n",
       "      <td>777</td>\n",
       "      <td>Yathecal72</td>\n",
       "      <td>20</td>\n",
       "      <td>Male</td>\n",
       "      <td>67</td>\n",
       "      <td>Celeste, Incarnation of the Corrupted</td>\n",
       "      <td>3.46</td>\n",
       "    </tr>\n",
       "    <tr>\n",
       "      <th>778</th>\n",
       "      <td>778</td>\n",
       "      <td>Sisur91</td>\n",
       "      <td>7</td>\n",
       "      <td>Male</td>\n",
       "      <td>101</td>\n",
       "      <td>Final Critic</td>\n",
       "      <td>4.19</td>\n",
       "    </tr>\n",
       "    <tr>\n",
       "      <th>779</th>\n",
       "      <td>779</td>\n",
       "      <td>Ennrian78</td>\n",
       "      <td>24</td>\n",
       "      <td>Male</td>\n",
       "      <td>50</td>\n",
       "      <td>Dawn</td>\n",
       "      <td>4.60</td>\n",
       "    </tr>\n",
       "  </tbody>\n",
       "</table>\n",
       "<p>780 rows × 7 columns</p>\n",
       "</div>"
      ],
      "text/plain": [
       "     Purchase ID             SN  Age  Gender  Item ID  \\\n",
       "0              0        Lisim78   20    Male      108   \n",
       "1              1    Lisovynya38   40    Male      143   \n",
       "2              2     Ithergue48   24    Male       92   \n",
       "3              3  Chamassasya86   24    Male      100   \n",
       "4              4      Iskosia90   23    Male      131   \n",
       "..           ...            ...  ...     ...      ...   \n",
       "775          775     Aethedru70   21  Female       60   \n",
       "776          776         Iral74   21    Male      164   \n",
       "777          777     Yathecal72   20    Male       67   \n",
       "778          778        Sisur91    7    Male      101   \n",
       "779          779      Ennrian78   24    Male       50   \n",
       "\n",
       "                                     Item Name  Price  \n",
       "0    Extraction, Quickblade Of Trembling Hands   3.53  \n",
       "1                            Frenzied Scimitar   1.56  \n",
       "2                                 Final Critic   4.88  \n",
       "3                                  Blindscythe   3.27  \n",
       "4                                         Fury   1.44  \n",
       "..                                         ...    ...  \n",
       "775                                       Wolf   3.54  \n",
       "776                           Exiled Doomblade   1.63  \n",
       "777      Celeste, Incarnation of the Corrupted   3.46  \n",
       "778                               Final Critic   4.19  \n",
       "779                                       Dawn   4.60  \n",
       "\n",
       "[780 rows x 7 columns]"
      ]
     },
     "execution_count": 1,
     "metadata": {},
     "output_type": "execute_result"
    }
   ],
   "source": [
    "# Dependencies and Setup\n",
    "import pandas as pd\n",
    "\n",
    "# File to Load (Remember to Change These)\n",
    "file_to_load = \"Resources/purchase_data.csv\"\n",
    "\n",
    "# Read Purchasing File and store into Pandas data frame\n",
    "pymoli = pd.read_csv(file_to_load)\n",
    "pymoli"
   ]
  },
  {
   "cell_type": "code",
   "execution_count": null,
   "metadata": {},
   "outputs": [],
   "source": []
  },
  {
   "cell_type": "code",
   "execution_count": null,
   "metadata": {},
   "outputs": [],
   "source": []
  },
  {
   "cell_type": "markdown",
   "metadata": {},
   "source": [
    "## Player Count"
   ]
  },
  {
   "cell_type": "markdown",
   "metadata": {},
   "source": [
    "* Display the total number of players\n"
   ]
  },
  {
   "cell_type": "code",
   "execution_count": 2,
   "metadata": {},
   "outputs": [
    {
     "data": {
      "text/plain": [
       "576"
      ]
     },
     "execution_count": 2,
     "metadata": {},
     "output_type": "execute_result"
    }
   ],
   "source": [
    "players = len(pymoli['SN'].value_counts())\n",
    "players"
   ]
  },
  {
   "cell_type": "code",
   "execution_count": 3,
   "metadata": {},
   "outputs": [
    {
     "data": {
      "text/html": [
       "<div>\n",
       "<style scoped>\n",
       "    .dataframe tbody tr th:only-of-type {\n",
       "        vertical-align: middle;\n",
       "    }\n",
       "\n",
       "    .dataframe tbody tr th {\n",
       "        vertical-align: top;\n",
       "    }\n",
       "\n",
       "    .dataframe thead th {\n",
       "        text-align: right;\n",
       "    }\n",
       "</style>\n",
       "<table border=\"1\" class=\"dataframe\">\n",
       "  <thead>\n",
       "    <tr style=\"text-align: right;\">\n",
       "      <th></th>\n",
       "      <th>Total Players</th>\n",
       "    </tr>\n",
       "  </thead>\n",
       "  <tbody>\n",
       "    <tr>\n",
       "      <th>0</th>\n",
       "      <td>576</td>\n",
       "    </tr>\n",
       "  </tbody>\n",
       "</table>\n",
       "</div>"
      ],
      "text/plain": [
       "   Total Players\n",
       "0            576"
      ]
     },
     "execution_count": 3,
     "metadata": {},
     "output_type": "execute_result"
    }
   ],
   "source": [
    "player_count = pd.DataFrame({\"Total Players\": [players]})\n",
    "player_count"
   ]
  },
  {
   "cell_type": "markdown",
   "metadata": {},
   "source": [
    "## Purchasing Analysis (Total)"
   ]
  },
  {
   "cell_type": "markdown",
   "metadata": {},
   "source": [
    "* Run basic calculations to obtain number of unique items, average price, etc.\n",
    "\n",
    "\n",
    "* Create a summary data frame to hold the results\n",
    "\n",
    "\n",
    "* Optional: give the displayed data cleaner formatting\n",
    "\n",
    "\n",
    "* Display the summary data frame\n"
   ]
  },
  {
   "cell_type": "code",
   "execution_count": 4,
   "metadata": {},
   "outputs": [],
   "source": [
    "unique_items = len((pymoli[\"Item ID\"]).unique())"
   ]
  },
  {
   "cell_type": "code",
   "execution_count": 13,
   "metadata": {},
   "outputs": [
    {
     "data": {
      "text/plain": [
       "3.050987179487176"
      ]
     },
     "execution_count": 13,
     "metadata": {},
     "output_type": "execute_result"
    }
   ],
   "source": [
    "average_price = (pymoli[\"Price\"]).mean()\n",
    "average_price"
   ]
  },
  {
   "cell_type": "code",
   "execution_count": 14,
   "metadata": {},
   "outputs": [
    {
     "data": {
      "text/plain": [
       "780"
      ]
     },
     "execution_count": 14,
     "metadata": {},
     "output_type": "execute_result"
    }
   ],
   "source": [
    "number_of_purchases = (pymoli[\"Purchase ID\"]).count()\n",
    "number_of_purchases"
   ]
  },
  {
   "cell_type": "code",
   "execution_count": 15,
   "metadata": {},
   "outputs": [
    {
     "data": {
      "text/plain": [
       "2379.77"
      ]
     },
     "execution_count": 15,
     "metadata": {},
     "output_type": "execute_result"
    }
   ],
   "source": [
    "total_revenue = (pymoli[\"Price\"]).sum()\n",
    "total_revenue "
   ]
  },
  {
   "cell_type": "code",
   "execution_count": 18,
   "metadata": {},
   "outputs": [
    {
     "data": {
      "text/html": [
       "<style  type=\"text/css\" >\n",
       "</style><table id=\"T_a91f16ba_5f9c_11ea_82c0_98e74309c485\" ><thead>    <tr>        <th class=\"blank level0\" ></th>        <th class=\"col_heading level0 col0\" >Number of Unique Items</th>        <th class=\"col_heading level0 col1\" >Average Price</th>        <th class=\"col_heading level0 col2\" >Number of Purchases</th>        <th class=\"col_heading level0 col3\" >Total Revenue</th>    </tr></thead><tbody>\n",
       "                <tr>\n",
       "                        <th id=\"T_a91f16ba_5f9c_11ea_82c0_98e74309c485level0_row0\" class=\"row_heading level0 row0\" >0</th>\n",
       "                        <td id=\"T_a91f16ba_5f9c_11ea_82c0_98e74309c485row0_col0\" class=\"data row0 col0\" >183</td>\n",
       "                        <td id=\"T_a91f16ba_5f9c_11ea_82c0_98e74309c485row0_col1\" class=\"data row0 col1\" >$3.05</td>\n",
       "                        <td id=\"T_a91f16ba_5f9c_11ea_82c0_98e74309c485row0_col2\" class=\"data row0 col2\" >780</td>\n",
       "                        <td id=\"T_a91f16ba_5f9c_11ea_82c0_98e74309c485row0_col3\" class=\"data row0 col3\" >$2,379.77</td>\n",
       "            </tr>\n",
       "    </tbody></table>"
      ],
      "text/plain": [
       "<pandas.io.formats.style.Styler at 0x1708ebbe608>"
      ]
     },
     "execution_count": 18,
     "metadata": {},
     "output_type": "execute_result"
    }
   ],
   "source": [
    "purchase_df = pd.DataFrame({\"Number of Unique Items\":[unique_items],\n",
    "                           \"Average Price\":[average_price], \n",
    "                           \"Number of Purchases\": [number_of_purchases], \n",
    "                           \"Total Revenue\": [total_revenue]})\n",
    "purchase_df.style.format({'Average Price':\"${:,.2f}\",\n",
    "                         'Total Revenue': '${:,.2f}'})"
   ]
  },
  {
   "cell_type": "code",
   "execution_count": null,
   "metadata": {},
   "outputs": [],
   "source": []
  },
  {
   "cell_type": "markdown",
   "metadata": {},
   "source": [
    "## Gender Demographics"
   ]
  },
  {
   "cell_type": "markdown",
   "metadata": {},
   "source": [
    "* Percentage and Count of Male Players\n",
    "\n",
    "\n",
    "* Percentage and Count of Female Players\n",
    "\n",
    "\n",
    "* Percentage and Count of Other / Non-Disclosed\n",
    "\n",
    "\n"
   ]
  },
  {
   "cell_type": "code",
   "execution_count": 41,
   "metadata": {},
   "outputs": [
    {
     "data": {
      "text/plain": [
       "<pandas.core.groupby.generic.DataFrameGroupBy object at 0x000001708ECC0388>"
      ]
     },
     "execution_count": 41,
     "metadata": {},
     "output_type": "execute_result"
    }
   ],
   "source": [
    "gender = pymoli.groupby(\"Gender\")"
   ]
  },
  {
   "cell_type": "code",
   "execution_count": 20,
   "metadata": {},
   "outputs": [],
   "source": [
    "total_gender_count = gender.nunique()[\"SN\"]"
   ]
  },
  {
   "cell_type": "code",
   "execution_count": 21,
   "metadata": {},
   "outputs": [],
   "source": [
    "players_percent = total_gender_count / players * 100"
   ]
  },
  {
   "cell_type": "code",
   "execution_count": 29,
   "metadata": {},
   "outputs": [
    {
     "data": {
      "text/html": [
       "<style  type=\"text/css\" >\n",
       "</style><table id=\"T_33aec976_5f9f_11ea_a7f3_98e74309c485\" ><thead>    <tr>        <th class=\"blank level0\" ></th>        <th class=\"col_heading level0 col0\" >Total Count</th>        <th class=\"col_heading level0 col1\" >Percentage of Players</th>    </tr></thead><tbody>\n",
       "                <tr>\n",
       "                        <th id=\"T_33aec976_5f9f_11ea_a7f3_98e74309c485level0_row0\" class=\"row_heading level0 row0\" >Male</th>\n",
       "                        <td id=\"T_33aec976_5f9f_11ea_a7f3_98e74309c485row0_col0\" class=\"data row0 col0\" >484</td>\n",
       "                        <td id=\"T_33aec976_5f9f_11ea_a7f3_98e74309c485row0_col1\" class=\"data row0 col1\" >84.03</td>\n",
       "            </tr>\n",
       "            <tr>\n",
       "                        <th id=\"T_33aec976_5f9f_11ea_a7f3_98e74309c485level0_row1\" class=\"row_heading level0 row1\" >Female</th>\n",
       "                        <td id=\"T_33aec976_5f9f_11ea_a7f3_98e74309c485row1_col0\" class=\"data row1 col0\" >81</td>\n",
       "                        <td id=\"T_33aec976_5f9f_11ea_a7f3_98e74309c485row1_col1\" class=\"data row1 col1\" >14.06</td>\n",
       "            </tr>\n",
       "            <tr>\n",
       "                        <th id=\"T_33aec976_5f9f_11ea_a7f3_98e74309c485level0_row2\" class=\"row_heading level0 row2\" >Other / Non-Disclosed</th>\n",
       "                        <td id=\"T_33aec976_5f9f_11ea_a7f3_98e74309c485row2_col0\" class=\"data row2 col0\" >11</td>\n",
       "                        <td id=\"T_33aec976_5f9f_11ea_a7f3_98e74309c485row2_col1\" class=\"data row2 col1\" >1.91</td>\n",
       "            </tr>\n",
       "    </tbody></table>"
      ],
      "text/plain": [
       "<pandas.io.formats.style.Styler at 0x1708ec22a08>"
      ]
     },
     "execution_count": 29,
     "metadata": {},
     "output_type": "execute_result"
    }
   ],
   "source": [
    "gender_group = pd.DataFrame({\"Total Count\": total_gender_count,\"Percentage of Players\": players_percent})\n",
    "gender_group.sort_values([\"Total Count\"], ascending = False).style.format({\"Percentage of Players\":\"{:.2f}\"})"
   ]
  },
  {
   "cell_type": "code",
   "execution_count": null,
   "metadata": {},
   "outputs": [],
   "source": []
  },
  {
   "cell_type": "markdown",
   "metadata": {},
   "source": [
    "* Run basic calculations to obtain purchase count, avg. purchase price, avg. purchase total per person etc. by gender\n",
    "\n",
    "\n",
    "\n",
    "\n",
    "* Create a summary data frame to hold the results\n",
    "\n",
    "\n",
    "* Optional: give the displayed data cleaner formatting\n",
    "\n",
    "\n",
    "* Display the summary data frame"
   ]
  },
  {
   "cell_type": "code",
   "execution_count": 31,
   "metadata": {},
   "outputs": [
    {
     "data": {
      "text/plain": [
       "Gender\n",
       "Female                   113\n",
       "Male                     652\n",
       "Other / Non-Disclosed     15\n",
       "Name: Purchase ID, dtype: int64"
      ]
     },
     "execution_count": 31,
     "metadata": {},
     "output_type": "execute_result"
    }
   ],
   "source": [
    "purchase_count = gender[\"Purchase ID\"].count()\n",
    "purchase_count"
   ]
  },
  {
   "cell_type": "code",
   "execution_count": 32,
   "metadata": {},
   "outputs": [],
   "source": [
    "avg_purchase_price = gender[\"Price\"].mean()"
   ]
  },
  {
   "cell_type": "code",
   "execution_count": 33,
   "metadata": {},
   "outputs": [],
   "source": [
    "avg_purchase_total = gender[\"Price\"].sum()"
   ]
  },
  {
   "cell_type": "code",
   "execution_count": 34,
   "metadata": {},
   "outputs": [],
   "source": [
    "avg_purchase_per_person = avg_purchase_total/total_gender_count"
   ]
  },
  {
   "cell_type": "code",
   "execution_count": 38,
   "metadata": {},
   "outputs": [],
   "source": [
    "gender_demo = pd.DataFrame({\"Purchase Count\": purchase_count, \n",
    "                                    \"Average Purchase Price\": avg_purchase_price,\n",
    "                                    \"Average Purchase Value\":avg_purchase_total,\n",
    "                                    \"Avg Purchase Total per Person\": avg_purchase_per_person})"
   ]
  },
  {
   "cell_type": "code",
   "execution_count": 40,
   "metadata": {},
   "outputs": [
    {
     "data": {
      "text/html": [
       "<style  type=\"text/css\" >\n",
       "</style><table id=\"T_13aa3ee6_5fa1_11ea_a4c0_98e74309c485\" ><thead>    <tr>        <th class=\"blank level0\" ></th>        <th class=\"col_heading level0 col0\" >Purchase Count</th>        <th class=\"col_heading level0 col1\" >Average Purchase Price</th>        <th class=\"col_heading level0 col2\" >Average Purchase Value</th>        <th class=\"col_heading level0 col3\" >Avg Purchase Total per Person</th>    </tr>    <tr>        <th class=\"index_name level0\" >Gender</th>        <th class=\"blank\" ></th>        <th class=\"blank\" ></th>        <th class=\"blank\" ></th>        <th class=\"blank\" ></th>    </tr></thead><tbody>\n",
       "                <tr>\n",
       "                        <th id=\"T_13aa3ee6_5fa1_11ea_a4c0_98e74309c485level0_row0\" class=\"row_heading level0 row0\" >Female</th>\n",
       "                        <td id=\"T_13aa3ee6_5fa1_11ea_a4c0_98e74309c485row0_col0\" class=\"data row0 col0\" >113</td>\n",
       "                        <td id=\"T_13aa3ee6_5fa1_11ea_a4c0_98e74309c485row0_col1\" class=\"data row0 col1\" >$3.20</td>\n",
       "                        <td id=\"T_13aa3ee6_5fa1_11ea_a4c0_98e74309c485row0_col2\" class=\"data row0 col2\" >$361.94</td>\n",
       "                        <td id=\"T_13aa3ee6_5fa1_11ea_a4c0_98e74309c485row0_col3\" class=\"data row0 col3\" >$4.47</td>\n",
       "            </tr>\n",
       "            <tr>\n",
       "                        <th id=\"T_13aa3ee6_5fa1_11ea_a4c0_98e74309c485level0_row1\" class=\"row_heading level0 row1\" >Male</th>\n",
       "                        <td id=\"T_13aa3ee6_5fa1_11ea_a4c0_98e74309c485row1_col0\" class=\"data row1 col0\" >652</td>\n",
       "                        <td id=\"T_13aa3ee6_5fa1_11ea_a4c0_98e74309c485row1_col1\" class=\"data row1 col1\" >$3.02</td>\n",
       "                        <td id=\"T_13aa3ee6_5fa1_11ea_a4c0_98e74309c485row1_col2\" class=\"data row1 col2\" >$1,967.64</td>\n",
       "                        <td id=\"T_13aa3ee6_5fa1_11ea_a4c0_98e74309c485row1_col3\" class=\"data row1 col3\" >$4.07</td>\n",
       "            </tr>\n",
       "            <tr>\n",
       "                        <th id=\"T_13aa3ee6_5fa1_11ea_a4c0_98e74309c485level0_row2\" class=\"row_heading level0 row2\" >Other / Non-Disclosed</th>\n",
       "                        <td id=\"T_13aa3ee6_5fa1_11ea_a4c0_98e74309c485row2_col0\" class=\"data row2 col0\" >15</td>\n",
       "                        <td id=\"T_13aa3ee6_5fa1_11ea_a4c0_98e74309c485row2_col1\" class=\"data row2 col1\" >$3.35</td>\n",
       "                        <td id=\"T_13aa3ee6_5fa1_11ea_a4c0_98e74309c485row2_col2\" class=\"data row2 col2\" >$50.19</td>\n",
       "                        <td id=\"T_13aa3ee6_5fa1_11ea_a4c0_98e74309c485row2_col3\" class=\"data row2 col3\" >$4.56</td>\n",
       "            </tr>\n",
       "    </tbody></table>"
      ],
      "text/plain": [
       "<pandas.io.formats.style.Styler at 0x1708ecc0488>"
      ]
     },
     "execution_count": 40,
     "metadata": {},
     "output_type": "execute_result"
    }
   ],
   "source": [
    "# Format with currency style\n",
    "gender_demo.style.format({\"Average Purchase Value\":\"${:,.2f}\",\n",
    "                          \"Average Purchase Price\":\"${:,.2f}\",\n",
    "                          \"Avg Purchase Total per Person\":\"${:,.2f}\"})"
   ]
  },
  {
   "cell_type": "code",
   "execution_count": null,
   "metadata": {},
   "outputs": [],
   "source": []
  },
  {
   "cell_type": "code",
   "execution_count": null,
   "metadata": {},
   "outputs": [],
   "source": []
  },
  {
   "cell_type": "markdown",
   "metadata": {},
   "source": [
    "## Age Demographics"
   ]
  },
  {
   "cell_type": "markdown",
   "metadata": {},
   "source": [
    "* Establish bins for ages\n",
    "\n",
    "\n",
    "* Categorize the existing players using the age bins. Hint: use pd.cut()\n",
    "\n",
    "\n",
    "* Calculate the numbers and percentages by age group\n",
    "\n",
    "\n",
    "* Create a summary data frame to hold the results\n",
    "\n",
    "\n",
    "* Optional: round the percentage column to two decimal points\n",
    "\n",
    "\n",
    "* Display Age Demographics Table\n"
   ]
  },
  {
   "cell_type": "code",
   "execution_count": 44,
   "metadata": {},
   "outputs": [],
   "source": [
    "age_bins = [0, 9.90, 14.90, 19.90, 24.90, 29.90, 34.90, 39.90, 99999]\n",
    "group_names = [\"<10\", \"10-14\", \"15-19\", \"20-24\", \"25-29\", \"30-34\", \"35-39\", \"40+\"]"
   ]
  },
  {
   "cell_type": "code",
   "execution_count": 45,
   "metadata": {},
   "outputs": [
    {
     "data": {
      "text/html": [
       "<div>\n",
       "<style scoped>\n",
       "    .dataframe tbody tr th:only-of-type {\n",
       "        vertical-align: middle;\n",
       "    }\n",
       "\n",
       "    .dataframe tbody tr th {\n",
       "        vertical-align: top;\n",
       "    }\n",
       "\n",
       "    .dataframe thead th {\n",
       "        text-align: right;\n",
       "    }\n",
       "</style>\n",
       "<table border=\"1\" class=\"dataframe\">\n",
       "  <thead>\n",
       "    <tr style=\"text-align: right;\">\n",
       "      <th></th>\n",
       "      <th>Purchase ID</th>\n",
       "      <th>SN</th>\n",
       "      <th>Age</th>\n",
       "      <th>Gender</th>\n",
       "      <th>Item ID</th>\n",
       "      <th>Item Name</th>\n",
       "      <th>Price</th>\n",
       "      <th>Age Group</th>\n",
       "    </tr>\n",
       "  </thead>\n",
       "  <tbody>\n",
       "    <tr>\n",
       "      <th>0</th>\n",
       "      <td>0</td>\n",
       "      <td>Lisim78</td>\n",
       "      <td>20</td>\n",
       "      <td>Male</td>\n",
       "      <td>108</td>\n",
       "      <td>Extraction, Quickblade Of Trembling Hands</td>\n",
       "      <td>3.53</td>\n",
       "      <td>20-24</td>\n",
       "    </tr>\n",
       "    <tr>\n",
       "      <th>1</th>\n",
       "      <td>1</td>\n",
       "      <td>Lisovynya38</td>\n",
       "      <td>40</td>\n",
       "      <td>Male</td>\n",
       "      <td>143</td>\n",
       "      <td>Frenzied Scimitar</td>\n",
       "      <td>1.56</td>\n",
       "      <td>40+</td>\n",
       "    </tr>\n",
       "    <tr>\n",
       "      <th>2</th>\n",
       "      <td>2</td>\n",
       "      <td>Ithergue48</td>\n",
       "      <td>24</td>\n",
       "      <td>Male</td>\n",
       "      <td>92</td>\n",
       "      <td>Final Critic</td>\n",
       "      <td>4.88</td>\n",
       "      <td>20-24</td>\n",
       "    </tr>\n",
       "    <tr>\n",
       "      <th>3</th>\n",
       "      <td>3</td>\n",
       "      <td>Chamassasya86</td>\n",
       "      <td>24</td>\n",
       "      <td>Male</td>\n",
       "      <td>100</td>\n",
       "      <td>Blindscythe</td>\n",
       "      <td>3.27</td>\n",
       "      <td>20-24</td>\n",
       "    </tr>\n",
       "    <tr>\n",
       "      <th>4</th>\n",
       "      <td>4</td>\n",
       "      <td>Iskosia90</td>\n",
       "      <td>23</td>\n",
       "      <td>Male</td>\n",
       "      <td>131</td>\n",
       "      <td>Fury</td>\n",
       "      <td>1.44</td>\n",
       "      <td>20-24</td>\n",
       "    </tr>\n",
       "    <tr>\n",
       "      <th>...</th>\n",
       "      <td>...</td>\n",
       "      <td>...</td>\n",
       "      <td>...</td>\n",
       "      <td>...</td>\n",
       "      <td>...</td>\n",
       "      <td>...</td>\n",
       "      <td>...</td>\n",
       "      <td>...</td>\n",
       "    </tr>\n",
       "    <tr>\n",
       "      <th>775</th>\n",
       "      <td>775</td>\n",
       "      <td>Aethedru70</td>\n",
       "      <td>21</td>\n",
       "      <td>Female</td>\n",
       "      <td>60</td>\n",
       "      <td>Wolf</td>\n",
       "      <td>3.54</td>\n",
       "      <td>20-24</td>\n",
       "    </tr>\n",
       "    <tr>\n",
       "      <th>776</th>\n",
       "      <td>776</td>\n",
       "      <td>Iral74</td>\n",
       "      <td>21</td>\n",
       "      <td>Male</td>\n",
       "      <td>164</td>\n",
       "      <td>Exiled Doomblade</td>\n",
       "      <td>1.63</td>\n",
       "      <td>20-24</td>\n",
       "    </tr>\n",
       "    <tr>\n",
       "      <th>777</th>\n",
       "      <td>777</td>\n",
       "      <td>Yathecal72</td>\n",
       "      <td>20</td>\n",
       "      <td>Male</td>\n",
       "      <td>67</td>\n",
       "      <td>Celeste, Incarnation of the Corrupted</td>\n",
       "      <td>3.46</td>\n",
       "      <td>20-24</td>\n",
       "    </tr>\n",
       "    <tr>\n",
       "      <th>778</th>\n",
       "      <td>778</td>\n",
       "      <td>Sisur91</td>\n",
       "      <td>7</td>\n",
       "      <td>Male</td>\n",
       "      <td>101</td>\n",
       "      <td>Final Critic</td>\n",
       "      <td>4.19</td>\n",
       "      <td>&lt;10</td>\n",
       "    </tr>\n",
       "    <tr>\n",
       "      <th>779</th>\n",
       "      <td>779</td>\n",
       "      <td>Ennrian78</td>\n",
       "      <td>24</td>\n",
       "      <td>Male</td>\n",
       "      <td>50</td>\n",
       "      <td>Dawn</td>\n",
       "      <td>4.60</td>\n",
       "      <td>20-24</td>\n",
       "    </tr>\n",
       "  </tbody>\n",
       "</table>\n",
       "<p>780 rows × 8 columns</p>\n",
       "</div>"
      ],
      "text/plain": [
       "     Purchase ID             SN  Age  Gender  Item ID  \\\n",
       "0              0        Lisim78   20    Male      108   \n",
       "1              1    Lisovynya38   40    Male      143   \n",
       "2              2     Ithergue48   24    Male       92   \n",
       "3              3  Chamassasya86   24    Male      100   \n",
       "4              4      Iskosia90   23    Male      131   \n",
       "..           ...            ...  ...     ...      ...   \n",
       "775          775     Aethedru70   21  Female       60   \n",
       "776          776         Iral74   21    Male      164   \n",
       "777          777     Yathecal72   20    Male       67   \n",
       "778          778        Sisur91    7    Male      101   \n",
       "779          779      Ennrian78   24    Male       50   \n",
       "\n",
       "                                     Item Name  Price Age Group  \n",
       "0    Extraction, Quickblade Of Trembling Hands   3.53     20-24  \n",
       "1                            Frenzied Scimitar   1.56       40+  \n",
       "2                                 Final Critic   4.88     20-24  \n",
       "3                                  Blindscythe   3.27     20-24  \n",
       "4                                         Fury   1.44     20-24  \n",
       "..                                         ...    ...       ...  \n",
       "775                                       Wolf   3.54     20-24  \n",
       "776                           Exiled Doomblade   1.63     20-24  \n",
       "777      Celeste, Incarnation of the Corrupted   3.46     20-24  \n",
       "778                               Final Critic   4.19       <10  \n",
       "779                                       Dawn   4.60     20-24  \n",
       "\n",
       "[780 rows x 8 columns]"
      ]
     },
     "execution_count": 45,
     "metadata": {},
     "output_type": "execute_result"
    }
   ],
   "source": [
    "pymoli[\"Age Group\"] = pd.cut(pymoli[\"Age\"],age_bins, labels=group_names)\n",
    "pymoli"
   ]
  },
  {
   "cell_type": "code",
   "execution_count": 46,
   "metadata": {},
   "outputs": [],
   "source": [
    "age_grouped = pymoli.groupby(\"Age Group\")"
   ]
  },
  {
   "cell_type": "code",
   "execution_count": 47,
   "metadata": {},
   "outputs": [],
   "source": [
    "total_count_age = age_grouped[\"SN\"].nunique()"
   ]
  },
  {
   "cell_type": "code",
   "execution_count": 49,
   "metadata": {},
   "outputs": [],
   "source": [
    "percentage_by_age = (total_count_age/players) * 100"
   ]
  },
  {
   "cell_type": "code",
   "execution_count": 52,
   "metadata": {},
   "outputs": [],
   "source": [
    "age_demographics = pd.DataFrame({\"Total Count\": total_count_age,\"Percentage of Players\": percentage_by_age})"
   ]
  },
  {
   "cell_type": "code",
   "execution_count": 53,
   "metadata": {},
   "outputs": [
    {
     "data": {
      "text/html": [
       "<style  type=\"text/css\" >\n",
       "</style><table id=\"T_82ac5df4_5fa3_11ea_935e_98e74309c485\" ><thead>    <tr>        <th class=\"blank level0\" ></th>        <th class=\"col_heading level0 col0\" >Total Count</th>        <th class=\"col_heading level0 col1\" >Percentage of Players</th>    </tr>    <tr>        <th class=\"index_name level0\" >Age Group</th>        <th class=\"blank\" ></th>        <th class=\"blank\" ></th>    </tr></thead><tbody>\n",
       "                <tr>\n",
       "                        <th id=\"T_82ac5df4_5fa3_11ea_935e_98e74309c485level0_row0\" class=\"row_heading level0 row0\" ><10</th>\n",
       "                        <td id=\"T_82ac5df4_5fa3_11ea_935e_98e74309c485row0_col0\" class=\"data row0 col0\" >17</td>\n",
       "                        <td id=\"T_82ac5df4_5fa3_11ea_935e_98e74309c485row0_col1\" class=\"data row0 col1\" >2.95</td>\n",
       "            </tr>\n",
       "            <tr>\n",
       "                        <th id=\"T_82ac5df4_5fa3_11ea_935e_98e74309c485level0_row1\" class=\"row_heading level0 row1\" >10-14</th>\n",
       "                        <td id=\"T_82ac5df4_5fa3_11ea_935e_98e74309c485row1_col0\" class=\"data row1 col0\" >22</td>\n",
       "                        <td id=\"T_82ac5df4_5fa3_11ea_935e_98e74309c485row1_col1\" class=\"data row1 col1\" >3.82</td>\n",
       "            </tr>\n",
       "            <tr>\n",
       "                        <th id=\"T_82ac5df4_5fa3_11ea_935e_98e74309c485level0_row2\" class=\"row_heading level0 row2\" >15-19</th>\n",
       "                        <td id=\"T_82ac5df4_5fa3_11ea_935e_98e74309c485row2_col0\" class=\"data row2 col0\" >107</td>\n",
       "                        <td id=\"T_82ac5df4_5fa3_11ea_935e_98e74309c485row2_col1\" class=\"data row2 col1\" >18.58</td>\n",
       "            </tr>\n",
       "            <tr>\n",
       "                        <th id=\"T_82ac5df4_5fa3_11ea_935e_98e74309c485level0_row3\" class=\"row_heading level0 row3\" >20-24</th>\n",
       "                        <td id=\"T_82ac5df4_5fa3_11ea_935e_98e74309c485row3_col0\" class=\"data row3 col0\" >258</td>\n",
       "                        <td id=\"T_82ac5df4_5fa3_11ea_935e_98e74309c485row3_col1\" class=\"data row3 col1\" >44.79</td>\n",
       "            </tr>\n",
       "            <tr>\n",
       "                        <th id=\"T_82ac5df4_5fa3_11ea_935e_98e74309c485level0_row4\" class=\"row_heading level0 row4\" >25-29</th>\n",
       "                        <td id=\"T_82ac5df4_5fa3_11ea_935e_98e74309c485row4_col0\" class=\"data row4 col0\" >77</td>\n",
       "                        <td id=\"T_82ac5df4_5fa3_11ea_935e_98e74309c485row4_col1\" class=\"data row4 col1\" >13.37</td>\n",
       "            </tr>\n",
       "            <tr>\n",
       "                        <th id=\"T_82ac5df4_5fa3_11ea_935e_98e74309c485level0_row5\" class=\"row_heading level0 row5\" >30-34</th>\n",
       "                        <td id=\"T_82ac5df4_5fa3_11ea_935e_98e74309c485row5_col0\" class=\"data row5 col0\" >52</td>\n",
       "                        <td id=\"T_82ac5df4_5fa3_11ea_935e_98e74309c485row5_col1\" class=\"data row5 col1\" >9.03</td>\n",
       "            </tr>\n",
       "            <tr>\n",
       "                        <th id=\"T_82ac5df4_5fa3_11ea_935e_98e74309c485level0_row6\" class=\"row_heading level0 row6\" >35-39</th>\n",
       "                        <td id=\"T_82ac5df4_5fa3_11ea_935e_98e74309c485row6_col0\" class=\"data row6 col0\" >31</td>\n",
       "                        <td id=\"T_82ac5df4_5fa3_11ea_935e_98e74309c485row6_col1\" class=\"data row6 col1\" >5.38</td>\n",
       "            </tr>\n",
       "            <tr>\n",
       "                        <th id=\"T_82ac5df4_5fa3_11ea_935e_98e74309c485level0_row7\" class=\"row_heading level0 row7\" >40+</th>\n",
       "                        <td id=\"T_82ac5df4_5fa3_11ea_935e_98e74309c485row7_col0\" class=\"data row7 col0\" >12</td>\n",
       "                        <td id=\"T_82ac5df4_5fa3_11ea_935e_98e74309c485row7_col1\" class=\"data row7 col1\" >2.08</td>\n",
       "            </tr>\n",
       "    </tbody></table>"
      ],
      "text/plain": [
       "<pandas.io.formats.style.Styler at 0x1708ecd1488>"
      ]
     },
     "execution_count": 53,
     "metadata": {},
     "output_type": "execute_result"
    }
   ],
   "source": [
    "age_demographics.style.format({\"Percentage of Players\":\"{:,.2f}\"})"
   ]
  },
  {
   "cell_type": "code",
   "execution_count": null,
   "metadata": {},
   "outputs": [],
   "source": []
  },
  {
   "cell_type": "markdown",
   "metadata": {},
   "source": [
    "## Purchasing Analysis (Age)"
   ]
  },
  {
   "cell_type": "markdown",
   "metadata": {},
   "source": [
    "* Bin the purchase_data data frame by age\n",
    "\n",
    "\n",
    "* Run basic calculations to obtain purchase count, avg. purchase price, avg. purchase total per person etc. in the table below\n",
    "\n",
    "\n",
    "* Create a summary data frame to hold the results\n",
    "\n",
    "\n",
    "* Optional: give the displayed data cleaner formatting\n",
    "\n",
    "\n",
    "* Display the summary data frame"
   ]
  },
  {
   "cell_type": "code",
   "execution_count": 61,
   "metadata": {},
   "outputs": [
    {
     "data": {
      "text/plain": [
       "Age Group\n",
       "<10       23\n",
       "10-14     28\n",
       "15-19    136\n",
       "20-24    365\n",
       "25-29    101\n",
       "30-34     73\n",
       "35-39     41\n",
       "40+       13\n",
       "Name: Purchase ID, dtype: int64"
      ]
     },
     "execution_count": 61,
     "metadata": {},
     "output_type": "execute_result"
    }
   ],
   "source": [
    "purchase_count_age = age_grouped[\"Purchase ID\"].count()\n",
    "purchase_count_age"
   ]
  },
  {
   "cell_type": "code",
   "execution_count": 62,
   "metadata": {},
   "outputs": [],
   "source": [
    "avg_purchase_price_age = age_grouped[\"Price\"].mean()"
   ]
  },
  {
   "cell_type": "code",
   "execution_count": 63,
   "metadata": {},
   "outputs": [],
   "source": [
    "total_purchase_value = age_grouped[\"Price\"].sum()"
   ]
  },
  {
   "cell_type": "code",
   "execution_count": 64,
   "metadata": {},
   "outputs": [],
   "source": [
    "avg_purchase_per_person_age = total_purchase_value/total_count_age"
   ]
  },
  {
   "cell_type": "code",
   "execution_count": 65,
   "metadata": {},
   "outputs": [
    {
     "data": {
      "text/html": [
       "<style  type=\"text/css\" >\n",
       "</style><table id=\"T_60602600_5fa5_11ea_b791_98e74309c485\" ><thead>    <tr>        <th class=\"blank level0\" ></th>        <th class=\"col_heading level0 col0\" >Purchase Count</th>        <th class=\"col_heading level0 col1\" >Average Purchase Price</th>        <th class=\"col_heading level0 col2\" >Total Purchase Value</th>        <th class=\"col_heading level0 col3\" >Average Purchase Total per Person</th>    </tr>    <tr>        <th class=\"index_name level0\" >Age Group</th>        <th class=\"blank\" ></th>        <th class=\"blank\" ></th>        <th class=\"blank\" ></th>        <th class=\"blank\" ></th>    </tr></thead><tbody>\n",
       "                <tr>\n",
       "                        <th id=\"T_60602600_5fa5_11ea_b791_98e74309c485level0_row0\" class=\"row_heading level0 row0\" ><10</th>\n",
       "                        <td id=\"T_60602600_5fa5_11ea_b791_98e74309c485row0_col0\" class=\"data row0 col0\" >23</td>\n",
       "                        <td id=\"T_60602600_5fa5_11ea_b791_98e74309c485row0_col1\" class=\"data row0 col1\" >$3.35</td>\n",
       "                        <td id=\"T_60602600_5fa5_11ea_b791_98e74309c485row0_col2\" class=\"data row0 col2\" >$77.13</td>\n",
       "                        <td id=\"T_60602600_5fa5_11ea_b791_98e74309c485row0_col3\" class=\"data row0 col3\" >$4.54</td>\n",
       "            </tr>\n",
       "            <tr>\n",
       "                        <th id=\"T_60602600_5fa5_11ea_b791_98e74309c485level0_row1\" class=\"row_heading level0 row1\" >10-14</th>\n",
       "                        <td id=\"T_60602600_5fa5_11ea_b791_98e74309c485row1_col0\" class=\"data row1 col0\" >28</td>\n",
       "                        <td id=\"T_60602600_5fa5_11ea_b791_98e74309c485row1_col1\" class=\"data row1 col1\" >$2.96</td>\n",
       "                        <td id=\"T_60602600_5fa5_11ea_b791_98e74309c485row1_col2\" class=\"data row1 col2\" >$82.78</td>\n",
       "                        <td id=\"T_60602600_5fa5_11ea_b791_98e74309c485row1_col3\" class=\"data row1 col3\" >$3.76</td>\n",
       "            </tr>\n",
       "            <tr>\n",
       "                        <th id=\"T_60602600_5fa5_11ea_b791_98e74309c485level0_row2\" class=\"row_heading level0 row2\" >15-19</th>\n",
       "                        <td id=\"T_60602600_5fa5_11ea_b791_98e74309c485row2_col0\" class=\"data row2 col0\" >136</td>\n",
       "                        <td id=\"T_60602600_5fa5_11ea_b791_98e74309c485row2_col1\" class=\"data row2 col1\" >$3.04</td>\n",
       "                        <td id=\"T_60602600_5fa5_11ea_b791_98e74309c485row2_col2\" class=\"data row2 col2\" >$412.89</td>\n",
       "                        <td id=\"T_60602600_5fa5_11ea_b791_98e74309c485row2_col3\" class=\"data row2 col3\" >$3.86</td>\n",
       "            </tr>\n",
       "            <tr>\n",
       "                        <th id=\"T_60602600_5fa5_11ea_b791_98e74309c485level0_row3\" class=\"row_heading level0 row3\" >20-24</th>\n",
       "                        <td id=\"T_60602600_5fa5_11ea_b791_98e74309c485row3_col0\" class=\"data row3 col0\" >365</td>\n",
       "                        <td id=\"T_60602600_5fa5_11ea_b791_98e74309c485row3_col1\" class=\"data row3 col1\" >$3.05</td>\n",
       "                        <td id=\"T_60602600_5fa5_11ea_b791_98e74309c485row3_col2\" class=\"data row3 col2\" >$1,114.06</td>\n",
       "                        <td id=\"T_60602600_5fa5_11ea_b791_98e74309c485row3_col3\" class=\"data row3 col3\" >$4.32</td>\n",
       "            </tr>\n",
       "            <tr>\n",
       "                        <th id=\"T_60602600_5fa5_11ea_b791_98e74309c485level0_row4\" class=\"row_heading level0 row4\" >25-29</th>\n",
       "                        <td id=\"T_60602600_5fa5_11ea_b791_98e74309c485row4_col0\" class=\"data row4 col0\" >101</td>\n",
       "                        <td id=\"T_60602600_5fa5_11ea_b791_98e74309c485row4_col1\" class=\"data row4 col1\" >$2.90</td>\n",
       "                        <td id=\"T_60602600_5fa5_11ea_b791_98e74309c485row4_col2\" class=\"data row4 col2\" >$293.00</td>\n",
       "                        <td id=\"T_60602600_5fa5_11ea_b791_98e74309c485row4_col3\" class=\"data row4 col3\" >$3.81</td>\n",
       "            </tr>\n",
       "            <tr>\n",
       "                        <th id=\"T_60602600_5fa5_11ea_b791_98e74309c485level0_row5\" class=\"row_heading level0 row5\" >30-34</th>\n",
       "                        <td id=\"T_60602600_5fa5_11ea_b791_98e74309c485row5_col0\" class=\"data row5 col0\" >73</td>\n",
       "                        <td id=\"T_60602600_5fa5_11ea_b791_98e74309c485row5_col1\" class=\"data row5 col1\" >$2.93</td>\n",
       "                        <td id=\"T_60602600_5fa5_11ea_b791_98e74309c485row5_col2\" class=\"data row5 col2\" >$214.00</td>\n",
       "                        <td id=\"T_60602600_5fa5_11ea_b791_98e74309c485row5_col3\" class=\"data row5 col3\" >$4.12</td>\n",
       "            </tr>\n",
       "            <tr>\n",
       "                        <th id=\"T_60602600_5fa5_11ea_b791_98e74309c485level0_row6\" class=\"row_heading level0 row6\" >35-39</th>\n",
       "                        <td id=\"T_60602600_5fa5_11ea_b791_98e74309c485row6_col0\" class=\"data row6 col0\" >41</td>\n",
       "                        <td id=\"T_60602600_5fa5_11ea_b791_98e74309c485row6_col1\" class=\"data row6 col1\" >$3.60</td>\n",
       "                        <td id=\"T_60602600_5fa5_11ea_b791_98e74309c485row6_col2\" class=\"data row6 col2\" >$147.67</td>\n",
       "                        <td id=\"T_60602600_5fa5_11ea_b791_98e74309c485row6_col3\" class=\"data row6 col3\" >$4.76</td>\n",
       "            </tr>\n",
       "            <tr>\n",
       "                        <th id=\"T_60602600_5fa5_11ea_b791_98e74309c485level0_row7\" class=\"row_heading level0 row7\" >40+</th>\n",
       "                        <td id=\"T_60602600_5fa5_11ea_b791_98e74309c485row7_col0\" class=\"data row7 col0\" >13</td>\n",
       "                        <td id=\"T_60602600_5fa5_11ea_b791_98e74309c485row7_col1\" class=\"data row7 col1\" >$2.94</td>\n",
       "                        <td id=\"T_60602600_5fa5_11ea_b791_98e74309c485row7_col2\" class=\"data row7 col2\" >$38.24</td>\n",
       "                        <td id=\"T_60602600_5fa5_11ea_b791_98e74309c485row7_col3\" class=\"data row7 col3\" >$3.19</td>\n",
       "            </tr>\n",
       "    </tbody></table>"
      ],
      "text/plain": [
       "<pandas.io.formats.style.Styler at 0x1708ecefa88>"
      ]
     },
     "execution_count": 65,
     "metadata": {},
     "output_type": "execute_result"
    }
   ],
   "source": [
    "age_demographics = pd.DataFrame({\"Purchase Count\": purchase_count_age,\n",
    "                                 \"Average Purchase Price\": avg_purchase_price_age,\n",
    "                                 \"Total Purchase Value\":total_purchase_value,\n",
    "                                 \"Average Purchase Total per Person\": avg_purchase_per_person_age})\n",
    "\n",
    "age_demographics.style.format({\"Average Purchase Price\":\"${:,.2f}\",\n",
    "                               \"Total Purchase Value\":\"${:,.2f}\",\n",
    "                               \"Average Purchase Total per Person\":\"${:,.2f}\"})"
   ]
  },
  {
   "cell_type": "code",
   "execution_count": null,
   "metadata": {},
   "outputs": [],
   "source": [
    "\n"
   ]
  },
  {
   "cell_type": "code",
   "execution_count": null,
   "metadata": {},
   "outputs": [],
   "source": []
  },
  {
   "cell_type": "markdown",
   "metadata": {},
   "source": [
    "## Top Spenders"
   ]
  },
  {
   "cell_type": "markdown",
   "metadata": {},
   "source": [
    "* Run basic calculations to obtain the results in the table below\n",
    "\n",
    "\n",
    "* Create a summary data frame to hold the results\n",
    "\n",
    "\n",
    "* Sort the total purchase value column in descending order\n",
    "\n",
    "\n",
    "* Optional: give the displayed data cleaner formatting\n",
    "\n",
    "\n",
    "* Display a preview of the summary data frame\n",
    "\n"
   ]
  },
  {
   "cell_type": "code",
   "execution_count": 67,
   "metadata": {},
   "outputs": [
    {
     "data": {
      "text/plain": [
       "<pandas.core.groupby.generic.DataFrameGroupBy object at 0x000001708ECEF608>"
      ]
     },
     "execution_count": 67,
     "metadata": {},
     "output_type": "execute_result"
    }
   ],
   "source": [
    "spender = pymoli.groupby(\"SN\")\n",
    "spender"
   ]
  },
  {
   "cell_type": "code",
   "execution_count": 68,
   "metadata": {},
   "outputs": [],
   "source": [
    "purchase_count_spender = spender[\"Purchase ID\"].count()"
   ]
  },
  {
   "cell_type": "code",
   "execution_count": 74,
   "metadata": {},
   "outputs": [],
   "source": [
    "average_purchase_price_spender = spender[\"Price\"].mean()"
   ]
  },
  {
   "cell_type": "code",
   "execution_count": 75,
   "metadata": {},
   "outputs": [],
   "source": [
    "purchase_total_spender = spender[\"Price\"].sum()"
   ]
  },
  {
   "cell_type": "code",
   "execution_count": 76,
   "metadata": {},
   "outputs": [
    {
     "data": {
      "text/html": [
       "<style  type=\"text/css\" >\n",
       "</style><table id=\"T_6ed37ba8_5fa8_11ea_ad6b_98e74309c485\" ><thead>    <tr>        <th class=\"blank level0\" ></th>        <th class=\"col_heading level0 col0\" >Purchase Count</th>        <th class=\"col_heading level0 col1\" >Average Purchase Price</th>        <th class=\"col_heading level0 col2\" >Total Purchase Value</th>    </tr>    <tr>        <th class=\"index_name level0\" >SN</th>        <th class=\"blank\" ></th>        <th class=\"blank\" ></th>        <th class=\"blank\" ></th>    </tr></thead><tbody>\n",
       "                <tr>\n",
       "                        <th id=\"T_6ed37ba8_5fa8_11ea_ad6b_98e74309c485level0_row0\" class=\"row_heading level0 row0\" >Lisosia93</th>\n",
       "                        <td id=\"T_6ed37ba8_5fa8_11ea_ad6b_98e74309c485row0_col0\" class=\"data row0 col0\" >5</td>\n",
       "                        <td id=\"T_6ed37ba8_5fa8_11ea_ad6b_98e74309c485row0_col1\" class=\"data row0 col1\" >$3.79</td>\n",
       "                        <td id=\"T_6ed37ba8_5fa8_11ea_ad6b_98e74309c485row0_col2\" class=\"data row0 col2\" >$18.96</td>\n",
       "            </tr>\n",
       "            <tr>\n",
       "                        <th id=\"T_6ed37ba8_5fa8_11ea_ad6b_98e74309c485level0_row1\" class=\"row_heading level0 row1\" >Idastidru52</th>\n",
       "                        <td id=\"T_6ed37ba8_5fa8_11ea_ad6b_98e74309c485row1_col0\" class=\"data row1 col0\" >4</td>\n",
       "                        <td id=\"T_6ed37ba8_5fa8_11ea_ad6b_98e74309c485row1_col1\" class=\"data row1 col1\" >$3.86</td>\n",
       "                        <td id=\"T_6ed37ba8_5fa8_11ea_ad6b_98e74309c485row1_col2\" class=\"data row1 col2\" >$15.45</td>\n",
       "            </tr>\n",
       "            <tr>\n",
       "                        <th id=\"T_6ed37ba8_5fa8_11ea_ad6b_98e74309c485level0_row2\" class=\"row_heading level0 row2\" >Chamjask73</th>\n",
       "                        <td id=\"T_6ed37ba8_5fa8_11ea_ad6b_98e74309c485row2_col0\" class=\"data row2 col0\" >3</td>\n",
       "                        <td id=\"T_6ed37ba8_5fa8_11ea_ad6b_98e74309c485row2_col1\" class=\"data row2 col1\" >$4.61</td>\n",
       "                        <td id=\"T_6ed37ba8_5fa8_11ea_ad6b_98e74309c485row2_col2\" class=\"data row2 col2\" >$13.83</td>\n",
       "            </tr>\n",
       "            <tr>\n",
       "                        <th id=\"T_6ed37ba8_5fa8_11ea_ad6b_98e74309c485level0_row3\" class=\"row_heading level0 row3\" >Iral74</th>\n",
       "                        <td id=\"T_6ed37ba8_5fa8_11ea_ad6b_98e74309c485row3_col0\" class=\"data row3 col0\" >4</td>\n",
       "                        <td id=\"T_6ed37ba8_5fa8_11ea_ad6b_98e74309c485row3_col1\" class=\"data row3 col1\" >$3.40</td>\n",
       "                        <td id=\"T_6ed37ba8_5fa8_11ea_ad6b_98e74309c485row3_col2\" class=\"data row3 col2\" >$13.62</td>\n",
       "            </tr>\n",
       "            <tr>\n",
       "                        <th id=\"T_6ed37ba8_5fa8_11ea_ad6b_98e74309c485level0_row4\" class=\"row_heading level0 row4\" >Iskadarya95</th>\n",
       "                        <td id=\"T_6ed37ba8_5fa8_11ea_ad6b_98e74309c485row4_col0\" class=\"data row4 col0\" >3</td>\n",
       "                        <td id=\"T_6ed37ba8_5fa8_11ea_ad6b_98e74309c485row4_col1\" class=\"data row4 col1\" >$4.37</td>\n",
       "                        <td id=\"T_6ed37ba8_5fa8_11ea_ad6b_98e74309c485row4_col2\" class=\"data row4 col2\" >$13.10</td>\n",
       "            </tr>\n",
       "    </tbody></table>"
      ],
      "text/plain": [
       "<pandas.io.formats.style.Styler at 0x1708ecf7a48>"
      ]
     },
     "execution_count": 76,
     "metadata": {},
     "output_type": "execute_result"
    }
   ],
   "source": [
    "top_spenders = pd.DataFrame({\"Purchase Count\": purchase_count_spender,\n",
    "                             \"Average Purchase Price\": average_purchase_price_spender,\n",
    "                             \"Total Purchase Value\":purchase_total_spender})\n",
    "spenders_df = top_spenders.sort_values([\"Total Purchase Value\"], ascending=False).head()\n",
    "spenders_df.style.format({\"Average Purchase Total\":\"${:,.2f}\",\n",
    "                                 \"Average Purchase Price\":\"${:,.2f}\", \n",
    "                                 \"Total Purchase Value\":\"${:,.2f}\"})"
   ]
  },
  {
   "cell_type": "code",
   "execution_count": null,
   "metadata": {},
   "outputs": [],
   "source": []
  },
  {
   "cell_type": "markdown",
   "metadata": {},
   "source": [
    "## Most Popular Items"
   ]
  },
  {
   "cell_type": "markdown",
   "metadata": {},
   "source": [
    "* Retrieve the Item ID, Item Name, and Item Price columns\n",
    "\n",
    "\n",
    "* Group by Item ID and Item Name. Perform calculations to obtain purchase count, item price, and total purchase value\n",
    "\n",
    "\n",
    "* Create a summary data frame to hold the results\n",
    "\n",
    "\n",
    "* Sort the purchase count column in descending order\n",
    "\n",
    "\n",
    "* Optional: give the displayed data cleaner formatting\n",
    "\n",
    "\n",
    "* Display a preview of the summary data frame\n",
    "\n"
   ]
  },
  {
   "cell_type": "code",
   "execution_count": 85,
   "metadata": {},
   "outputs": [],
   "source": [
    "items = pymoli[[\"Item ID\", \"Item Name\", \"Price\"]]"
   ]
  },
  {
   "cell_type": "code",
   "execution_count": 86,
   "metadata": {},
   "outputs": [],
   "source": [
    "item = items.groupby([\"Item ID\",\"Item Name\"])"
   ]
  },
  {
   "cell_type": "code",
   "execution_count": 87,
   "metadata": {},
   "outputs": [],
   "source": [
    "purchase_item_count = item[\"Price\"].count()"
   ]
  },
  {
   "cell_type": "code",
   "execution_count": 88,
   "metadata": {},
   "outputs": [],
   "source": [
    "purchase_value = (item[\"Price\"].sum()) "
   ]
  },
  {
   "cell_type": "code",
   "execution_count": 89,
   "metadata": {},
   "outputs": [],
   "source": [
    "item_price = purchase_value/purchase_item_count"
   ]
  },
  {
   "cell_type": "code",
   "execution_count": 90,
   "metadata": {},
   "outputs": [
    {
     "data": {
      "text/html": [
       "<style  type=\"text/css\" >\n",
       "</style><table id=\"T_be0bafdc_5fac_11ea_9cdd_98e74309c485\" ><thead>    <tr>        <th class=\"blank\" ></th>        <th class=\"blank level0\" ></th>        <th class=\"col_heading level0 col0\" >Purchase Count</th>        <th class=\"col_heading level0 col1\" >Item Price</th>        <th class=\"col_heading level0 col2\" >Total Purchase Value</th>    </tr>    <tr>        <th class=\"index_name level0\" >Item ID</th>        <th class=\"index_name level1\" >Item Name</th>        <th class=\"blank\" ></th>        <th class=\"blank\" ></th>        <th class=\"blank\" ></th>    </tr></thead><tbody>\n",
       "                <tr>\n",
       "                        <th id=\"T_be0bafdc_5fac_11ea_9cdd_98e74309c485level0_row0\" class=\"row_heading level0 row0\" >178</th>\n",
       "                        <th id=\"T_be0bafdc_5fac_11ea_9cdd_98e74309c485level1_row0\" class=\"row_heading level1 row0\" >Oathbreaker, Last Hope of the Breaking Storm</th>\n",
       "                        <td id=\"T_be0bafdc_5fac_11ea_9cdd_98e74309c485row0_col0\" class=\"data row0 col0\" >12</td>\n",
       "                        <td id=\"T_be0bafdc_5fac_11ea_9cdd_98e74309c485row0_col1\" class=\"data row0 col1\" >$4.23</td>\n",
       "                        <td id=\"T_be0bafdc_5fac_11ea_9cdd_98e74309c485row0_col2\" class=\"data row0 col2\" >$50.76</td>\n",
       "            </tr>\n",
       "            <tr>\n",
       "                        <th id=\"T_be0bafdc_5fac_11ea_9cdd_98e74309c485level0_row1\" class=\"row_heading level0 row1\" >145</th>\n",
       "                        <th id=\"T_be0bafdc_5fac_11ea_9cdd_98e74309c485level1_row1\" class=\"row_heading level1 row1\" >Fiery Glass Crusader</th>\n",
       "                        <td id=\"T_be0bafdc_5fac_11ea_9cdd_98e74309c485row1_col0\" class=\"data row1 col0\" >9</td>\n",
       "                        <td id=\"T_be0bafdc_5fac_11ea_9cdd_98e74309c485row1_col1\" class=\"data row1 col1\" >$4.58</td>\n",
       "                        <td id=\"T_be0bafdc_5fac_11ea_9cdd_98e74309c485row1_col2\" class=\"data row1 col2\" >$41.22</td>\n",
       "            </tr>\n",
       "            <tr>\n",
       "                        <th id=\"T_be0bafdc_5fac_11ea_9cdd_98e74309c485level0_row2\" class=\"row_heading level0 row2\" >108</th>\n",
       "                        <th id=\"T_be0bafdc_5fac_11ea_9cdd_98e74309c485level1_row2\" class=\"row_heading level1 row2\" >Extraction, Quickblade Of Trembling Hands</th>\n",
       "                        <td id=\"T_be0bafdc_5fac_11ea_9cdd_98e74309c485row2_col0\" class=\"data row2 col0\" >9</td>\n",
       "                        <td id=\"T_be0bafdc_5fac_11ea_9cdd_98e74309c485row2_col1\" class=\"data row2 col1\" >$3.53</td>\n",
       "                        <td id=\"T_be0bafdc_5fac_11ea_9cdd_98e74309c485row2_col2\" class=\"data row2 col2\" >$31.77</td>\n",
       "            </tr>\n",
       "            <tr>\n",
       "                        <th id=\"T_be0bafdc_5fac_11ea_9cdd_98e74309c485level0_row3\" class=\"row_heading level0 row3\" >82</th>\n",
       "                        <th id=\"T_be0bafdc_5fac_11ea_9cdd_98e74309c485level1_row3\" class=\"row_heading level1 row3\" >Nirvana</th>\n",
       "                        <td id=\"T_be0bafdc_5fac_11ea_9cdd_98e74309c485row3_col0\" class=\"data row3 col0\" >9</td>\n",
       "                        <td id=\"T_be0bafdc_5fac_11ea_9cdd_98e74309c485row3_col1\" class=\"data row3 col1\" >$4.90</td>\n",
       "                        <td id=\"T_be0bafdc_5fac_11ea_9cdd_98e74309c485row3_col2\" class=\"data row3 col2\" >$44.10</td>\n",
       "            </tr>\n",
       "            <tr>\n",
       "                        <th id=\"T_be0bafdc_5fac_11ea_9cdd_98e74309c485level0_row4\" class=\"row_heading level0 row4\" >19</th>\n",
       "                        <th id=\"T_be0bafdc_5fac_11ea_9cdd_98e74309c485level1_row4\" class=\"row_heading level1 row4\" >Pursuit, Cudgel of Necromancy</th>\n",
       "                        <td id=\"T_be0bafdc_5fac_11ea_9cdd_98e74309c485row4_col0\" class=\"data row4 col0\" >8</td>\n",
       "                        <td id=\"T_be0bafdc_5fac_11ea_9cdd_98e74309c485row4_col1\" class=\"data row4 col1\" >$1.02</td>\n",
       "                        <td id=\"T_be0bafdc_5fac_11ea_9cdd_98e74309c485row4_col2\" class=\"data row4 col2\" >$8.16</td>\n",
       "            </tr>\n",
       "    </tbody></table>"
      ],
      "text/plain": [
       "<pandas.io.formats.style.Styler at 0x1708edc3d88>"
      ]
     },
     "execution_count": 90,
     "metadata": {},
     "output_type": "execute_result"
    }
   ],
   "source": [
    "most_popular_items = pd.DataFrame({\"Purchase Count\": purchase_item_count, \n",
    "                                   \"Item Price\": item_price,\n",
    "                                   \"Total Purchase Value\":purchase_value})\n",
    "\n",
    "popular = most_popular_items.sort_values([\"Purchase Count\"], ascending=False).head()\n",
    "popular.style.format({\"Item Price\":\"${:,.2f}\",\n",
    "                                \"Total Purchase Value\":\"${:,.2f}\"})"
   ]
  },
  {
   "cell_type": "code",
   "execution_count": null,
   "metadata": {},
   "outputs": [],
   "source": []
  },
  {
   "cell_type": "markdown",
   "metadata": {},
   "source": [
    "## Most Profitable Items"
   ]
  },
  {
   "cell_type": "markdown",
   "metadata": {},
   "source": [
    "* Sort the above table by total purchase value in descending order\n",
    "\n",
    "\n",
    "* Optional: give the displayed data cleaner formatting\n",
    "\n",
    "\n",
    "* Display a preview of the data frame\n",
    "\n"
   ]
  },
  {
   "cell_type": "code",
   "execution_count": 93,
   "metadata": {},
   "outputs": [
    {
     "data": {
      "text/html": [
       "<style  type=\"text/css\" >\n",
       "</style><table id=\"T_536a7d4c_5fb0_11ea_94b6_98e74309c485\" ><thead>    <tr>        <th class=\"blank\" ></th>        <th class=\"blank level0\" ></th>        <th class=\"col_heading level0 col0\" >Purchase Count</th>        <th class=\"col_heading level0 col1\" >Item Price</th>        <th class=\"col_heading level0 col2\" >Total Purchase Value</th>    </tr>    <tr>        <th class=\"index_name level0\" >Item ID</th>        <th class=\"index_name level1\" >Item Name</th>        <th class=\"blank\" ></th>        <th class=\"blank\" ></th>        <th class=\"blank\" ></th>    </tr></thead><tbody>\n",
       "                <tr>\n",
       "                        <th id=\"T_536a7d4c_5fb0_11ea_94b6_98e74309c485level0_row0\" class=\"row_heading level0 row0\" >178</th>\n",
       "                        <th id=\"T_536a7d4c_5fb0_11ea_94b6_98e74309c485level1_row0\" class=\"row_heading level1 row0\" >Oathbreaker, Last Hope of the Breaking Storm</th>\n",
       "                        <td id=\"T_536a7d4c_5fb0_11ea_94b6_98e74309c485row0_col0\" class=\"data row0 col0\" >12</td>\n",
       "                        <td id=\"T_536a7d4c_5fb0_11ea_94b6_98e74309c485row0_col1\" class=\"data row0 col1\" >$4.23</td>\n",
       "                        <td id=\"T_536a7d4c_5fb0_11ea_94b6_98e74309c485row0_col2\" class=\"data row0 col2\" >$50.76</td>\n",
       "            </tr>\n",
       "            <tr>\n",
       "                        <th id=\"T_536a7d4c_5fb0_11ea_94b6_98e74309c485level0_row1\" class=\"row_heading level0 row1\" >82</th>\n",
       "                        <th id=\"T_536a7d4c_5fb0_11ea_94b6_98e74309c485level1_row1\" class=\"row_heading level1 row1\" >Nirvana</th>\n",
       "                        <td id=\"T_536a7d4c_5fb0_11ea_94b6_98e74309c485row1_col0\" class=\"data row1 col0\" >9</td>\n",
       "                        <td id=\"T_536a7d4c_5fb0_11ea_94b6_98e74309c485row1_col1\" class=\"data row1 col1\" >$4.90</td>\n",
       "                        <td id=\"T_536a7d4c_5fb0_11ea_94b6_98e74309c485row1_col2\" class=\"data row1 col2\" >$44.10</td>\n",
       "            </tr>\n",
       "            <tr>\n",
       "                        <th id=\"T_536a7d4c_5fb0_11ea_94b6_98e74309c485level0_row2\" class=\"row_heading level0 row2\" >145</th>\n",
       "                        <th id=\"T_536a7d4c_5fb0_11ea_94b6_98e74309c485level1_row2\" class=\"row_heading level1 row2\" >Fiery Glass Crusader</th>\n",
       "                        <td id=\"T_536a7d4c_5fb0_11ea_94b6_98e74309c485row2_col0\" class=\"data row2 col0\" >9</td>\n",
       "                        <td id=\"T_536a7d4c_5fb0_11ea_94b6_98e74309c485row2_col1\" class=\"data row2 col1\" >$4.58</td>\n",
       "                        <td id=\"T_536a7d4c_5fb0_11ea_94b6_98e74309c485row2_col2\" class=\"data row2 col2\" >$41.22</td>\n",
       "            </tr>\n",
       "            <tr>\n",
       "                        <th id=\"T_536a7d4c_5fb0_11ea_94b6_98e74309c485level0_row3\" class=\"row_heading level0 row3\" >92</th>\n",
       "                        <th id=\"T_536a7d4c_5fb0_11ea_94b6_98e74309c485level1_row3\" class=\"row_heading level1 row3\" >Final Critic</th>\n",
       "                        <td id=\"T_536a7d4c_5fb0_11ea_94b6_98e74309c485row3_col0\" class=\"data row3 col0\" >8</td>\n",
       "                        <td id=\"T_536a7d4c_5fb0_11ea_94b6_98e74309c485row3_col1\" class=\"data row3 col1\" >$4.88</td>\n",
       "                        <td id=\"T_536a7d4c_5fb0_11ea_94b6_98e74309c485row3_col2\" class=\"data row3 col2\" >$39.04</td>\n",
       "            </tr>\n",
       "            <tr>\n",
       "                        <th id=\"T_536a7d4c_5fb0_11ea_94b6_98e74309c485level0_row4\" class=\"row_heading level0 row4\" >103</th>\n",
       "                        <th id=\"T_536a7d4c_5fb0_11ea_94b6_98e74309c485level1_row4\" class=\"row_heading level1 row4\" >Singed Scalpel</th>\n",
       "                        <td id=\"T_536a7d4c_5fb0_11ea_94b6_98e74309c485row4_col0\" class=\"data row4 col0\" >8</td>\n",
       "                        <td id=\"T_536a7d4c_5fb0_11ea_94b6_98e74309c485row4_col1\" class=\"data row4 col1\" >$4.35</td>\n",
       "                        <td id=\"T_536a7d4c_5fb0_11ea_94b6_98e74309c485row4_col2\" class=\"data row4 col2\" >$34.80</td>\n",
       "            </tr>\n",
       "    </tbody></table>"
      ],
      "text/plain": [
       "<pandas.io.formats.style.Styler at 0x1708edd9c88>"
      ]
     },
     "execution_count": 93,
     "metadata": {},
     "output_type": "execute_result"
    }
   ],
   "source": [
    "popular = most_popular_items.sort_values([\"Total Purchase Value\"],ascending=False).head()\n",
    "popular.style.format({\"Item Price\":\"${:,.2f}\",\n",
    "                                \"Total Purchase Value\":\"${:,.2f}\"})"
   ]
  },
  {
   "cell_type": "code",
   "execution_count": null,
   "metadata": {},
   "outputs": [],
   "source": []
  }
 ],
 "metadata": {
  "anaconda-cloud": {},
  "kernel_info": {
   "name": "python3"
  },
  "kernelspec": {
   "display_name": "Python 3.7.6 64-bit ('PythonData': conda)",
   "language": "python",
   "name": "python37664bitpythondatacondaf32c76a603324f80aa4cddb49579dbf2"
  },
  "language_info": {
   "codemirror_mode": {
    "name": "ipython",
    "version": 3
   },
   "file_extension": ".py",
   "mimetype": "text/x-python",
   "name": "python",
   "nbconvert_exporter": "python",
   "pygments_lexer": "ipython3",
   "version": "3.7.6"
  },
  "latex_envs": {
   "LaTeX_envs_menu_present": true,
   "autoclose": false,
   "autocomplete": true,
   "bibliofile": "biblio.bib",
   "cite_by": "apalike",
   "current_citInitial": 1,
   "eqLabelWithNumbers": true,
   "eqNumInitial": 1,
   "hotkeys": {
    "equation": "Ctrl-E",
    "itemize": "Ctrl-I"
   },
   "labels_anchors": false,
   "latex_user_defs": false,
   "report_style_numbering": false,
   "user_envs_cfg": false
  },
  "nteract": {
   "version": "0.2.0"
  }
 },
 "nbformat": 4,
 "nbformat_minor": 2
}